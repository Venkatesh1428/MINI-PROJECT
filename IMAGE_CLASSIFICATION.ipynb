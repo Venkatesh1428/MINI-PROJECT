{
  "nbformat": 4,
  "nbformat_minor": 0,
  "metadata": {
    "colab": {
      "name": "IMAGE CLASSIFICATION.ipynb",
      "provenance": [],
      "authorship_tag": "ABX9TyOkhMO5AdOJX6GsHRGTh08D",
      "include_colab_link": true
    },
    "kernelspec": {
      "name": "python3",
      "display_name": "Python 3"
    },
    "language_info": {
      "name": "python"
    }
  },
  "cells": [
    {
      "cell_type": "markdown",
      "metadata": {
        "id": "view-in-github",
        "colab_type": "text"
      },
      "source": [
        "<a href=\"https://colab.research.google.com/github/Venkatesh1428/MINI-PROJECT/blob/main/IMAGE_CLASSIFICATION.ipynb\" target=\"_parent\"><img src=\"https://colab.research.google.com/assets/colab-badge.svg\" alt=\"Open In Colab\"/></a>"
      ]
    },
    {
      "cell_type": "code",
      "metadata": {
        "colab": {
          "base_uri": "https://localhost:8080/"
        },
        "id": "lO8JUAHQCEMV",
        "outputId": "d6a19f54-5dfa-48a3-ed52-e6637cb88551"
      },
      "source": [
        "!pip install ipython-autotime\n",
        "%load_ext autotime"
      ],
      "execution_count": 5,
      "outputs": [
        {
          "output_type": "stream",
          "text": [
            "Requirement already satisfied: ipython-autotime in /usr/local/lib/python3.7/dist-packages (0.3.1)\n",
            "Requirement already satisfied: ipython in /usr/local/lib/python3.7/dist-packages (from ipython-autotime) (5.5.0)\n",
            "Requirement already satisfied: prompt-toolkit<2.0.0,>=1.0.4 in /usr/local/lib/python3.7/dist-packages (from ipython->ipython-autotime) (1.0.18)\n",
            "Requirement already satisfied: pexpect; sys_platform != \"win32\" in /usr/local/lib/python3.7/dist-packages (from ipython->ipython-autotime) (4.8.0)\n",
            "Requirement already satisfied: setuptools>=18.5 in /usr/local/lib/python3.7/dist-packages (from ipython->ipython-autotime) (54.2.0)\n",
            "Requirement already satisfied: simplegeneric>0.8 in /usr/local/lib/python3.7/dist-packages (from ipython->ipython-autotime) (0.8.1)\n",
            "Requirement already satisfied: pygments in /usr/local/lib/python3.7/dist-packages (from ipython->ipython-autotime) (2.6.1)\n",
            "Requirement already satisfied: pickleshare in /usr/local/lib/python3.7/dist-packages (from ipython->ipython-autotime) (0.7.5)\n",
            "Requirement already satisfied: decorator in /usr/local/lib/python3.7/dist-packages (from ipython->ipython-autotime) (4.4.2)\n",
            "Requirement already satisfied: traitlets>=4.2 in /usr/local/lib/python3.7/dist-packages (from ipython->ipython-autotime) (5.0.5)\n",
            "Requirement already satisfied: wcwidth in /usr/local/lib/python3.7/dist-packages (from prompt-toolkit<2.0.0,>=1.0.4->ipython->ipython-autotime) (0.2.5)\n",
            "Requirement already satisfied: six>=1.9.0 in /usr/local/lib/python3.7/dist-packages (from prompt-toolkit<2.0.0,>=1.0.4->ipython->ipython-autotime) (1.15.0)\n",
            "Requirement already satisfied: ptyprocess>=0.5 in /usr/local/lib/python3.7/dist-packages (from pexpect; sys_platform != \"win32\"->ipython->ipython-autotime) (0.7.0)\n",
            "Requirement already satisfied: ipython-genutils in /usr/local/lib/python3.7/dist-packages (from traitlets>=4.2->ipython->ipython-autotime) (0.2.0)\n",
            "The autotime extension is already loaded. To reload it, use:\n",
            "  %reload_ext autotime\n",
            "time: 3.04 s (started: 2021-03-30 18:42:58 +00:00)\n"
          ],
          "name": "stdout"
        }
      ]
    },
    {
      "cell_type": "code",
      "metadata": {
        "colab": {
          "base_uri": "https://localhost:8080/"
        },
        "id": "m0z9WMrmz24O",
        "outputId": "74d2aa96-4459-4aff-eb8a-3474a6baa9c6"
      },
      "source": [
        "!pip install bing-image-downloader"
      ],
      "execution_count": 6,
      "outputs": [
        {
          "output_type": "stream",
          "text": [
            "Requirement already satisfied: bing-image-downloader in /usr/local/lib/python3.7/dist-packages (1.0.4)\n",
            "time: 2.94 s (started: 2021-03-30 18:43:04 +00:00)\n"
          ],
          "name": "stdout"
        }
      ]
    },
    {
      "cell_type": "code",
      "metadata": {
        "colab": {
          "base_uri": "https://localhost:8080/"
        },
        "id": "jj5691ww0mih",
        "outputId": "ba606d10-8dd0-48b9-b78c-71065a42b9da"
      },
      "source": [
        "!mkdir images"
      ],
      "execution_count": 7,
      "outputs": [
        {
          "output_type": "stream",
          "text": [
            "mkdir: cannot create directory ‘images’: File exists\n",
            "time: 120 ms (started: 2021-03-30 18:43:10 +00:00)\n"
          ],
          "name": "stdout"
        }
      ]
    },
    {
      "cell_type": "code",
      "metadata": {
        "colab": {
          "base_uri": "https://localhost:8080/"
        },
        "id": "571ZyxDy03Jp",
        "outputId": "bec30666-d9f8-46c8-e4c9-902c93ee73cb"
      },
      "source": [
        "from bing_image_downloader import downloader\n",
        "downloader.download(\"ice cream cone\",limit=30,output_dir='images',adult_filter_off=True)"
      ],
      "execution_count": 8,
      "outputs": [
        {
          "output_type": "stream",
          "text": [
            "\n",
            "\n",
            "[!!]Indexing page: 1\n",
            "\n",
            "[%] Indexed 12 Images on Page 1.\n",
            "\n",
            "===============================================\n",
            "\n",
            "[%] Downloading Image #1 from https://www.niskayunareformed.org/wp-content/uploads/2019/06/0575c5e8-kawaii-ice-cream-cones-pc.jpg\n",
            "[%] File Downloaded !\n",
            "\n",
            "[%] Downloading Image #2 from http://coolcreativity.com/wp-content/uploads/2014/06/diy-delicious-bread-cone-10.jpg\n",
            "[%] File Downloaded !\n",
            "\n",
            "[%] Downloading Image #3 from https://www.ledolci.com/wp-content/uploads/2017/07/DSC1783.jpg\n",
            "[%] File Downloaded !\n",
            "\n",
            "[%] Downloading Image #4 from http://cdn.onlyinyourstate.com/wp-content/uploads/2017/05/custard-corner-ice-cream.jpg\n",
            "[%] File Downloaded !\n",
            "\n",
            "[%] Downloading Image #5 from https://www.doyouremember.co.uk/uploads/W2YrgIV811138666_467075566790990_8064308684721678494_n.jpg\n",
            "[Error]Invalid image, not saving https://www.doyouremember.co.uk/uploads/W2YrgIV811138666_467075566790990_8064308684721678494_n.jpg\n",
            "\n",
            "[!] Issue getting: https://www.doyouremember.co.uk/uploads/W2YrgIV811138666_467075566790990_8064308684721678494_n.jpg\n",
            "[!] Error:: No active exception to reraise\n",
            "[%] Downloading Image #5 from https://i.pinimg.com/736x/ea/ea/77/eaea7717bb08455063a7d871ed8098cb.jpg\n",
            "[%] File Downloaded !\n",
            "\n",
            "[%] Downloading Image #6 from https://www.peters.com.au/wp-content/uploads/2020/05/Drumstick_ClassicVanilla_HW.png\n",
            "[%] File Downloaded !\n",
            "\n",
            "[%] Downloading Image #7 from https://vignette.wikia.nocookie.net/portalworldsgame/images/4/46/Ice_Cream_Cone.png/revision/latest?cb=20190611093344\n",
            "[%] File Downloaded !\n",
            "\n",
            "[%] Downloading Image #8 from https://www.greetingsisland.com/images/cards/birthday/Ice Cream.jpg\n",
            "[!] Issue getting: https://www.greetingsisland.com/images/cards/birthday/Ice Cream.jpg\n",
            "[!] Error:: URL can't contain control characters. '/images/cards/birthday/Ice Cream.jpg' (found at least ' ')\n",
            "[%] Downloading Image #8 from http://www.intimateweddings.com/wp-content/uploads/2011/04/french-fry-cones.jpg\n",
            "[%] File Downloaded !\n",
            "\n",
            "[%] Downloading Image #9 from https://littlebitsof.com/wp-content/uploads/2014/04/DSC_0182.jpg\n",
            "[%] File Downloaded !\n",
            "\n",
            "[%] Downloading Image #10 from https://www.justataste.com/wp-content/uploads/2017/05/rainbow-dipped-waffle-cones.jpg\n",
            "[%] File Downloaded !\n",
            "\n",
            "\n",
            "\n",
            "[!!]Indexing page: 2\n",
            "\n",
            "[%] Indexed 12 Images on Page 2.\n",
            "\n",
            "===============================================\n",
            "\n",
            "[%] Downloading Image #11 from https://www.niskayunareformed.org/wp-content/uploads/2019/06/0575c5e8-kawaii-ice-cream-cones-pc.jpg\n",
            "[%] File Downloaded !\n",
            "\n",
            "[%] Downloading Image #12 from http://coolcreativity.com/wp-content/uploads/2014/06/diy-delicious-bread-cone-10.jpg\n",
            "[%] File Downloaded !\n",
            "\n",
            "[%] Downloading Image #13 from https://www.ledolci.com/wp-content/uploads/2017/07/DSC1783.jpg\n",
            "[%] File Downloaded !\n",
            "\n",
            "[%] Downloading Image #14 from http://cdn.onlyinyourstate.com/wp-content/uploads/2017/05/custard-corner-ice-cream.jpg\n",
            "[%] File Downloaded !\n",
            "\n",
            "[%] Downloading Image #15 from https://www.doyouremember.co.uk/uploads/W2YrgIV811138666_467075566790990_8064308684721678494_n.jpg\n",
            "[Error]Invalid image, not saving https://www.doyouremember.co.uk/uploads/W2YrgIV811138666_467075566790990_8064308684721678494_n.jpg\n",
            "\n",
            "[!] Issue getting: https://www.doyouremember.co.uk/uploads/W2YrgIV811138666_467075566790990_8064308684721678494_n.jpg\n",
            "[!] Error:: No active exception to reraise\n",
            "[%] Downloading Image #15 from https://i.pinimg.com/736x/ea/ea/77/eaea7717bb08455063a7d871ed8098cb.jpg\n",
            "[%] File Downloaded !\n",
            "\n",
            "[%] Downloading Image #16 from https://www.peters.com.au/wp-content/uploads/2020/05/Drumstick_ClassicVanilla_HW.png\n",
            "[%] File Downloaded !\n",
            "\n",
            "[%] Downloading Image #17 from https://vignette.wikia.nocookie.net/portalworldsgame/images/4/46/Ice_Cream_Cone.png/revision/latest?cb=20190611093344\n",
            "[%] File Downloaded !\n",
            "\n",
            "[%] Downloading Image #18 from https://www.greetingsisland.com/images/cards/birthday/Ice Cream.jpg\n",
            "[!] Issue getting: https://www.greetingsisland.com/images/cards/birthday/Ice Cream.jpg\n",
            "[!] Error:: URL can't contain control characters. '/images/cards/birthday/Ice Cream.jpg' (found at least ' ')\n",
            "[%] Downloading Image #18 from http://www.intimateweddings.com/wp-content/uploads/2011/04/french-fry-cones.jpg\n",
            "[%] File Downloaded !\n",
            "\n",
            "[%] Downloading Image #19 from https://littlebitsof.com/wp-content/uploads/2014/04/DSC_0182.jpg\n",
            "[%] File Downloaded !\n",
            "\n",
            "[%] Downloading Image #20 from https://www.justataste.com/wp-content/uploads/2017/05/rainbow-dipped-waffle-cones.jpg\n",
            "[%] File Downloaded !\n",
            "\n",
            "\n",
            "\n",
            "[!!]Indexing page: 3\n",
            "\n",
            "[%] Indexed 11 Images on Page 3.\n",
            "\n",
            "===============================================\n",
            "\n",
            "[%] Downloading Image #21 from https://the-glass-co.com/wp-content/uploads/2016/10/ice-cream-presentation.gif\n",
            "[%] File Downloaded !\n",
            "\n",
            "[%] Downloading Image #22 from https://roadfood.com/wp-content/uploads/2017/01/Zesto-ext-1024x647.jpg\n",
            "[%] File Downloaded !\n",
            "\n",
            "[%] Downloading Image #23 from https://static.boredpanda.com/blog/wp-content/uploads/2017/04/black-ice-cream-cone-little-damage-4-590085eb5e59a__700.jpg\n",
            "[%] File Downloaded !\n",
            "\n",
            "[%] Downloading Image #24 from https://www.craftymorning.com/wp-content/uploads/2016/05/cotton-candy-cones-party-favor.jpg\n",
            "[%] File Downloaded !\n",
            "\n",
            "[%] Downloading Image #25 from https://i.pinimg.com/736x/3e/82/f0/3e82f0ac7b4002fb214804232d47262a--pencil-art-icecream.jpg\n",
            "[%] File Downloaded !\n",
            "\n",
            "[%] Downloading Image #26 from https://www.roadsideamerica.com/attract/images/il/ILMARicecreamcone_perfectpair.jpg\n",
            "[%] File Downloaded !\n",
            "\n",
            "[%] Downloading Image #27 from https://geekologie.com/2017/04/26/black-soft-serve-ice-cream-5.jpg\n",
            "[%] File Downloaded !\n",
            "\n",
            "[%] Downloading Image #28 from http://www.awesomeinventions.com/wp-content/uploads/2017/07/Times-People-Lost-The-Food-Lottery-spongebob-popsicle.jpg\n",
            "[%] File Downloaded !\n",
            "\n",
            "[%] Downloading Image #29 from http://www.roadsideamerica.com/attract/images/il/ILMATtwistee_andy.jpg\n",
            "[%] File Downloaded !\n",
            "\n",
            "[%] Downloading Image #30 from http://static.oprah.com/images/o2/201208-omag-cones-949x534.jpg\n",
            "[%] File Downloaded !\n",
            "\n",
            "\n",
            "\n",
            "[%] Done. Downloaded 30 images.\n",
            "\n",
            "===============================================\n",
            "\n",
            "time: 13 s (started: 2021-03-30 18:43:14 +00:00)\n"
          ],
          "name": "stdout"
        }
      ]
    },
    {
      "cell_type": "code",
      "metadata": {
        "colab": {
          "base_uri": "https://localhost:8080/"
        },
        "id": "O5Yw8ede09Un",
        "outputId": "ee67ceda-ea3a-4968-a562-d99dd268d884"
      },
      "source": [
        "from bing_image_downloader import downloader\n",
        "downloader.download(\"pretty sunflower\",limit=30,output_dir='images',adult_filter_off=True)"
      ],
      "execution_count": 9,
      "outputs": [
        {
          "output_type": "stream",
          "text": [
            "\n",
            "\n",
            "[!!]Indexing page: 1\n",
            "\n",
            "[%] Indexed 13 Images on Page 1.\n",
            "\n",
            "===============================================\n",
            "\n",
            "[%] Downloading Image #1 from https://i.pinimg.com/736x/77/3f/e6/773fe6cd3196fa5240ccad71389f60d3.jpg\n",
            "[%] File Downloaded !\n",
            "\n",
            "[%] Downloading Image #2 from https://www.prettydesigns.com/wp-content/uploads/2014/11/Dreamcatcher-Tattoo-on-Wrist.jpg\n",
            "[%] File Downloaded !\n",
            "\n",
            "[%] Downloading Image #3 from https://i.pinimg.com/736x/dd/20/0c/dd200cd836acc855dd1d51c709c2a50b--giant-sunflower-sunflower-flower.jpg\n",
            "[%] File Downloaded !\n",
            "\n",
            "[%] Downloading Image #4 from https://i.pinimg.com/736x/51/7a/90/517a90573eeaea5861387b12b78ad09e.jpg\n",
            "[%] File Downloaded !\n",
            "\n",
            "[%] Downloading Image #5 from https://bestanimations.com/Nature/Flora/beautiful-flower-animated-gif5.gif\n",
            "[%] File Downloaded !\n",
            "\n",
            "[%] Downloading Image #6 from https://www.bing.com/th/id/OGC.e05f040180d53eea684e8bd417ae1906?pid=1.7&amp;rurl=https%3a%2f%2fbestanimations.com%2fNature%2fFlora%2fbeautiful-flower-animated-gif5.gif&amp;ehk=FWMOrkEwVVqVQndXaUXsKJz2LhLVP4p9ZdPMfcYbDfA%3d\n",
            "[!] Issue getting: https://www.bing.com/th/id/OGC.e05f040180d53eea684e8bd417ae1906?pid=1.7&amp;rurl=https%3a%2f%2fbestanimations.com%2fNature%2fFlora%2fbeautiful-flower-animated-gif5.gif&amp;ehk=FWMOrkEwVVqVQndXaUXsKJz2LhLVP4p9ZdPMfcYbDfA%3d\n",
            "[!] Error:: HTTP Error 404: Not Found\n",
            "[%] Downloading Image #6 from https://i.pinimg.com/736x/bb/cb/13/bbcb13a1b334fe5af84fea514b8a5d39.jpg\n",
            "[%] File Downloaded !\n",
            "\n",
            "[%] Downloading Image #7 from https://tattoomagz.com/wp-content/uploads/Tattoos/Three-cool-sunflower-tattoo.jpg\n",
            "[%] File Downloaded !\n",
            "\n",
            "[%] Downloading Image #8 from https://www.wallpapers13.com/wp-content/uploads/2015/12/Purple-flower-petals-macro-2560x1600.jpg\n",
            "[%] File Downloaded !\n",
            "\n",
            "[%] Downloading Image #9 from http://bit.ly/pAl5SM\n",
            "[%] File Downloaded !\n",
            "\n",
            "[%] Downloading Image #10 from https://i.pinimg.com/736x/4f/d0/30/4fd0304ca5cda7e425ede5bf87b9bf60--wolves-art-bald-eagle.jpg\n",
            "[%] File Downloaded !\n",
            "\n",
            "[%] Downloading Image #11 from https://www.wallpapers13.com/wp-content/uploads/2015/12/Pink-lotus-flowers-HD-wallpaper-4a-1920x1440.jpg\n",
            "[%] File Downloaded !\n",
            "\n",
            "[%] Downloading Image #12 from http://www.diyhowto.org/wp-content/uploads/2016/01/DIYHowto-20-DIY-Bookmark-Ideas-On-Pinterest-That-Are-Easy-to-Craft13-600x988.jpg\n",
            "[%] File Downloaded !\n",
            "\n",
            "\n",
            "\n",
            "[!!]Indexing page: 2\n",
            "\n",
            "[%] Indexed 13 Images on Page 2.\n",
            "\n",
            "===============================================\n",
            "\n",
            "[%] Downloading Image #13 from https://i.pinimg.com/736x/77/3f/e6/773fe6cd3196fa5240ccad71389f60d3.jpg\n",
            "[%] File Downloaded !\n",
            "\n",
            "[%] Downloading Image #14 from https://www.prettydesigns.com/wp-content/uploads/2014/11/Dreamcatcher-Tattoo-on-Wrist.jpg\n",
            "[%] File Downloaded !\n",
            "\n",
            "[%] Downloading Image #15 from https://i.pinimg.com/736x/dd/20/0c/dd200cd836acc855dd1d51c709c2a50b--giant-sunflower-sunflower-flower.jpg\n",
            "[%] File Downloaded !\n",
            "\n",
            "[%] Downloading Image #16 from https://i.pinimg.com/736x/51/7a/90/517a90573eeaea5861387b12b78ad09e.jpg\n",
            "[%] File Downloaded !\n",
            "\n",
            "[%] Downloading Image #17 from https://bestanimations.com/Nature/Flora/beautiful-flower-animated-gif5.gif\n",
            "[%] File Downloaded !\n",
            "\n",
            "[%] Downloading Image #18 from https://www.bing.com/th/id/OGC.e05f040180d53eea684e8bd417ae1906?pid=1.7&amp;rurl=https%3a%2f%2fbestanimations.com%2fNature%2fFlora%2fbeautiful-flower-animated-gif5.gif&amp;ehk=FWMOrkEwVVqVQndXaUXsKJz2LhLVP4p9ZdPMfcYbDfA%3d\n",
            "[!] Issue getting: https://www.bing.com/th/id/OGC.e05f040180d53eea684e8bd417ae1906?pid=1.7&amp;rurl=https%3a%2f%2fbestanimations.com%2fNature%2fFlora%2fbeautiful-flower-animated-gif5.gif&amp;ehk=FWMOrkEwVVqVQndXaUXsKJz2LhLVP4p9ZdPMfcYbDfA%3d\n",
            "[!] Error:: HTTP Error 404: Not Found\n",
            "[%] Downloading Image #18 from https://i.pinimg.com/736x/bb/cb/13/bbcb13a1b334fe5af84fea514b8a5d39.jpg\n",
            "[%] File Downloaded !\n",
            "\n",
            "[%] Downloading Image #19 from https://tattoomagz.com/wp-content/uploads/Tattoos/Three-cool-sunflower-tattoo.jpg\n",
            "[%] File Downloaded !\n",
            "\n",
            "[%] Downloading Image #20 from https://www.wallpapers13.com/wp-content/uploads/2015/12/Purple-flower-petals-macro-2560x1600.jpg\n",
            "[%] File Downloaded !\n",
            "\n",
            "[%] Downloading Image #21 from http://bit.ly/pAl5SM\n",
            "[%] File Downloaded !\n",
            "\n",
            "[%] Downloading Image #22 from https://i.pinimg.com/736x/4f/d0/30/4fd0304ca5cda7e425ede5bf87b9bf60--wolves-art-bald-eagle.jpg\n",
            "[%] File Downloaded !\n",
            "\n",
            "[%] Downloading Image #23 from https://www.wallpapers13.com/wp-content/uploads/2015/12/Pink-lotus-flowers-HD-wallpaper-4a-1920x1440.jpg\n",
            "[%] File Downloaded !\n",
            "\n",
            "[%] Downloading Image #24 from http://www.diyhowto.org/wp-content/uploads/2016/01/DIYHowto-20-DIY-Bookmark-Ideas-On-Pinterest-That-Are-Easy-to-Craft13-600x988.jpg\n",
            "[%] File Downloaded !\n",
            "\n",
            "\n",
            "\n",
            "[!!]Indexing page: 3\n",
            "\n",
            "[%] Indexed 12 Images on Page 3.\n",
            "\n",
            "===============================================\n",
            "\n",
            "[%] Downloading Image #25 from https://i.pinimg.com/736x/dd/20/0c/dd200cd836acc855dd1d51c709c2a50b--giant-sunflower-sunflower-flower.jpg\n",
            "[%] File Downloaded !\n",
            "\n",
            "[%] Downloading Image #26 from https://www.wallpapers13.com/wp-content/uploads/2015/12/Pink-lotus-flowers-HD-wallpaper-4a-1920x1440.jpg\n",
            "[%] File Downloaded !\n",
            "\n",
            "[%] Downloading Image #27 from http://www.diyhowto.org/wp-content/uploads/2016/01/DIYHowto-20-DIY-Bookmark-Ideas-On-Pinterest-That-Are-Easy-to-Craft13-600x988.jpg\n",
            "[%] File Downloaded !\n",
            "\n",
            "[%] Downloading Image #28 from https://i.pinimg.com/736x/51/7a/90/517a90573eeaea5861387b12b78ad09e.jpg\n",
            "[%] File Downloaded !\n",
            "\n",
            "[%] Downloading Image #29 from https://www.prettydesigns.com/wp-content/uploads/2014/11/Dreamcatcher-Tattoo-on-Wrist.jpg\n",
            "[%] File Downloaded !\n",
            "\n",
            "[%] Downloading Image #30 from https://i.pinimg.com/736x/bb/cb/13/bbcb13a1b334fe5af84fea514b8a5d39.jpg\n",
            "[%] File Downloaded !\n",
            "\n",
            "\n",
            "\n",
            "[%] Done. Downloaded 30 images.\n",
            "\n",
            "===============================================\n",
            "\n",
            "time: 20.5 s (started: 2021-03-30 18:43:32 +00:00)\n"
          ],
          "name": "stdout"
        }
      ]
    },
    {
      "cell_type": "code",
      "metadata": {
        "id": "o3m4TlbY1H9p",
        "colab": {
          "base_uri": "https://localhost:8080/"
        },
        "outputId": "b05dcac6-abe1-4349-b723-7aa519f8dde0"
      },
      "source": [
        "from bing_image_downloader import downloader\n",
        "downloader.download(\"rugby ball leather\",limit=30,output_dir='images',adult_filter_off=True)"
      ],
      "execution_count": 10,
      "outputs": [
        {
          "output_type": "stream",
          "text": [
            "\n",
            "\n",
            "[!!]Indexing page: 1\n",
            "\n",
            "[%] Indexed 12 Images on Page 1.\n",
            "\n",
            "===============================================\n",
            "\n",
            "[%] Downloading Image #1 from https://asdiansi.com/afl-7.jpg\n",
            "[%] File Downloaded !\n",
            "\n",
            "[%] Downloading Image #2 from https://www.freevector.com/uploads/vector/preview/17620/FreeVector-Rugby-Ball-Vector.jpg\n",
            "[%] File Downloaded !\n",
            "\n",
            "[%] Downloading Image #3 from http://petticoatsandpistols.com/wp-content/uploads/2017/01/IMG_3413-1.jpg\n",
            "[%] File Downloaded !\n",
            "\n",
            "[%] Downloading Image #4 from https://cdn.shopify.com/s/files/1/0226/2169/products/Gold_Pro_2048x2048_V2_1024x1024.jpg?v=1511272164\n",
            "[%] File Downloaded !\n",
            "\n",
            "[%] Downloading Image #5 from http://www.upfrontcricket.com/media/catalog/product/cache/1/image/9df78eab33525d08d6e5fb8d27136e95/p/r/premier_league_cb_edited-2.jpg\n",
            "[%] File Downloaded !\n",
            "\n",
            "[%] Downloading Image #6 from https://cdn.shopify.com/s/files/1/0068/0227/6407/products/48432005_Ball_Replica_6_Nations_Guinness_Size_5_Main_1024x1024.jpg?v=1578402386\n",
            "[%] File Downloaded !\n",
            "\n",
            "[%] Downloading Image #7 from https://cdn-01.independent.ie/incoming/article34694420.ece/2b21b/AUTOCROP/w620/len004.jpg\n",
            "[%] File Downloaded !\n",
            "\n",
            "[%] Downloading Image #8 from http://thumbs.dreamstime.com/z/cricket-ball-striking-ground-particles-29568472.jpg\n",
            "[%] File Downloaded !\n",
            "\n",
            "[%] Downloading Image #9 from https://www.prodirectrugby.com/productimages/V3_1_Main/82143.jpg\n",
            "[!] Issue getting: https://www.prodirectrugby.com/productimages/V3_1_Main/82143.jpg\n",
            "[!] Error:: HTTP Error 403: Forbidden\n",
            "[%] Downloading Image #9 from https://www.bigw.com.au/medias/sys_master/images/images/h28/h74/15133025042462.jpg\n",
            "[%] File Downloaded !\n",
            "\n",
            "[%] Downloading Image #10 from https://www.firstscene.co.nz/images/catalogue/Red-Leather-Outfit.jpg\n",
            "[%] File Downloaded !\n",
            "\n",
            "[%] Downloading Image #11 from https://www.prodirectrugby.com/productimages/V3_1_Main/73478.jpg\n",
            "[!] Issue getting: https://www.prodirectrugby.com/productimages/V3_1_Main/73478.jpg\n",
            "[!] Error:: HTTP Error 403: Forbidden\n",
            "\n",
            "\n",
            "[!!]Indexing page: 2\n",
            "\n",
            "[%] Indexed 12 Images on Page 2.\n",
            "\n",
            "===============================================\n",
            "\n",
            "[%] Downloading Image #11 from https://asdiansi.com/afl-7.jpg\n",
            "[%] File Downloaded !\n",
            "\n",
            "[%] Downloading Image #12 from https://www.freevector.com/uploads/vector/preview/17620/FreeVector-Rugby-Ball-Vector.jpg\n",
            "[%] File Downloaded !\n",
            "\n",
            "[%] Downloading Image #13 from http://petticoatsandpistols.com/wp-content/uploads/2017/01/IMG_3413-1.jpg\n",
            "[%] File Downloaded !\n",
            "\n",
            "[%] Downloading Image #14 from https://cdn.shopify.com/s/files/1/0226/2169/products/Gold_Pro_2048x2048_V2_1024x1024.jpg?v=1511272164\n",
            "[%] File Downloaded !\n",
            "\n",
            "[%] Downloading Image #15 from http://www.upfrontcricket.com/media/catalog/product/cache/1/image/9df78eab33525d08d6e5fb8d27136e95/p/r/premier_league_cb_edited-2.jpg\n",
            "[%] File Downloaded !\n",
            "\n",
            "[%] Downloading Image #16 from https://cdn.shopify.com/s/files/1/0068/0227/6407/products/48432005_Ball_Replica_6_Nations_Guinness_Size_5_Main_1024x1024.jpg?v=1578402386\n",
            "[%] File Downloaded !\n",
            "\n",
            "[%] Downloading Image #17 from https://cdn-01.independent.ie/incoming/article34694420.ece/2b21b/AUTOCROP/w620/len004.jpg\n",
            "[%] File Downloaded !\n",
            "\n",
            "[%] Downloading Image #18 from http://thumbs.dreamstime.com/z/cricket-ball-striking-ground-particles-29568472.jpg\n",
            "[%] File Downloaded !\n",
            "\n",
            "[%] Downloading Image #19 from https://www.prodirectrugby.com/productimages/V3_1_Main/82143.jpg\n",
            "[!] Issue getting: https://www.prodirectrugby.com/productimages/V3_1_Main/82143.jpg\n",
            "[!] Error:: HTTP Error 403: Forbidden\n",
            "[%] Downloading Image #19 from https://www.bigw.com.au/medias/sys_master/images/images/h28/h74/15133025042462.jpg\n",
            "[%] File Downloaded !\n",
            "\n",
            "[%] Downloading Image #20 from https://www.firstscene.co.nz/images/catalogue/Red-Leather-Outfit.jpg\n",
            "[%] File Downloaded !\n",
            "\n",
            "[%] Downloading Image #21 from https://www.prodirectrugby.com/productimages/V3_1_Main/73478.jpg\n",
            "[!] Issue getting: https://www.prodirectrugby.com/productimages/V3_1_Main/73478.jpg\n",
            "[!] Error:: HTTP Error 403: Forbidden\n",
            "\n",
            "\n",
            "[!!]Indexing page: 3\n",
            "\n",
            "[%] Indexed 11 Images on Page 3.\n",
            "\n",
            "===============================================\n",
            "\n",
            "[%] Downloading Image #21 from https://www.freevector.com/uploads/vector/preview/17620/FreeVector-Rugby-Ball-Vector.jpg\n",
            "[%] File Downloaded !\n",
            "\n",
            "[%] Downloading Image #22 from http://petticoatsandpistols.com/wp-content/uploads/2017/01/IMG_3413-1.jpg\n",
            "[%] File Downloaded !\n",
            "\n",
            "[%] Downloading Image #23 from https://cdn.shopify.com/s/files/1/0226/2169/products/Gold_Pro_2048x2048_V2_1024x1024.jpg?v=1511272164\n",
            "[%] File Downloaded !\n",
            "\n",
            "[%] Downloading Image #24 from http://www.upfrontcricket.com/media/catalog/product/cache/1/image/9df78eab33525d08d6e5fb8d27136e95/p/r/premier_league_cb_edited-2.jpg\n",
            "[%] File Downloaded !\n",
            "\n",
            "[%] Downloading Image #25 from https://cdn.shopify.com/s/files/1/0068/0227/6407/products/48432005_Ball_Replica_6_Nations_Guinness_Size_5_Main_1024x1024.jpg?v=1578402386\n",
            "[%] File Downloaded !\n",
            "\n",
            "[%] Downloading Image #26 from https://cdn-01.independent.ie/incoming/article34694420.ece/2b21b/AUTOCROP/w620/len004.jpg\n",
            "[%] File Downloaded !\n",
            "\n",
            "[%] Downloading Image #27 from http://thumbs.dreamstime.com/z/cricket-ball-striking-ground-particles-29568472.jpg\n",
            "[%] File Downloaded !\n",
            "\n",
            "[%] Downloading Image #28 from https://www.prodirectrugby.com/productimages/V3_1_Main/82143.jpg\n",
            "[!] Issue getting: https://www.prodirectrugby.com/productimages/V3_1_Main/82143.jpg\n",
            "[!] Error:: HTTP Error 403: Forbidden\n",
            "[%] Downloading Image #28 from https://www.bigw.com.au/medias/sys_master/images/images/h28/h74/15133025042462.jpg\n",
            "[%] File Downloaded !\n",
            "\n",
            "[%] Downloading Image #29 from https://www.firstscene.co.nz/images/catalogue/Red-Leather-Outfit.jpg\n",
            "[%] File Downloaded !\n",
            "\n",
            "[%] Downloading Image #30 from https://www.prodirectrugby.com/productimages/V3_1_Main/73478.jpg\n",
            "[!] Issue getting: https://www.prodirectrugby.com/productimages/V3_1_Main/73478.jpg\n",
            "[!] Error:: HTTP Error 403: Forbidden\n",
            "\n",
            "\n",
            "[!!]Indexing page: 4\n",
            "\n",
            "[%] Indexed 10 Images on Page 4.\n",
            "\n",
            "===============================================\n",
            "\n",
            "[%] Downloading Image #30 from http://petticoatsandpistols.com/wp-content/uploads/2017/01/IMG_3413-1.jpg\n",
            "[%] File Downloaded !\n",
            "\n",
            "\n",
            "\n",
            "[%] Done. Downloaded 30 images.\n",
            "\n",
            "===============================================\n",
            "\n",
            "time: 22.8 s (started: 2021-03-30 18:43:58 +00:00)\n"
          ],
          "name": "stdout"
        }
      ]
    },
    {
      "cell_type": "code",
      "metadata": {
        "id": "3ebC00rl1TIj",
        "colab": {
          "base_uri": "https://localhost:8080/"
        },
        "outputId": "5b723150-a08a-4e9e-a238-0d5fe7c9c413"
      },
      "source": [
        "import numpy as np\n",
        "\n",
        "a = np.array([[1,2,3,4,5],[4,5,6,7,8]])\n",
        "a.ndim"
      ],
      "execution_count": 11,
      "outputs": [
        {
          "output_type": "execute_result",
          "data": {
            "text/plain": [
              "2"
            ]
          },
          "metadata": {
            "tags": []
          },
          "execution_count": 11
        },
        {
          "output_type": "stream",
          "text": [
            "time: 6.2 ms (started: 2021-03-30 18:44:23 +00:00)\n"
          ],
          "name": "stdout"
        }
      ]
    },
    {
      "cell_type": "code",
      "metadata": {
        "id": "8NJMpKt-1lOY",
        "colab": {
          "base_uri": "https://localhost:8080/"
        },
        "outputId": "586aab78-1ba2-46e8-9ddb-f43e5eee2265"
      },
      "source": [
        "#How do i convert Matrix to Vector? - flatten()\n",
        "a.flatten()"
      ],
      "execution_count": 12,
      "outputs": [
        {
          "output_type": "execute_result",
          "data": {
            "text/plain": [
              "array([1, 2, 3, 4, 5, 4, 5, 6, 7, 8])"
            ]
          },
          "metadata": {
            "tags": []
          },
          "execution_count": 12
        },
        {
          "output_type": "stream",
          "text": [
            "time: 12.6 ms (started: 2021-03-30 18:44:26 +00:00)\n"
          ],
          "name": "stdout"
        }
      ]
    },
    {
      "cell_type": "code",
      "metadata": {
        "id": "TYrNXPJr1wki",
        "colab": {
          "base_uri": "https://localhost:8080/"
        },
        "outputId": "e81c09ef-4528-41fb-e36a-c30965b34800"
      },
      "source": [
        "# Preprocessing\n",
        "# 1.Resize\n",
        "# 2.flatten\n",
        "\n",
        "import os\n",
        "import matplotlib.pyplot as plt\n",
        "import numpy as np\n",
        "from skimage.io import imread\n",
        "from skimage.transform import resize\n",
        "\n",
        "target = []\n",
        "images = []\n",
        "flat_data = []\n",
        "\n",
        "DATADIR = '/content/images'\n",
        "CATEGORIES = ['pretty sunflower','rugby ball leather','ice cream cone']\n",
        "\n",
        "for category in CATEGORIES:\n",
        "  class_num = CATEGORIES.index(category)#Lable Encoding the values\n",
        "  path = os.path.join(DATADIR,category)#Create path to use all the images\n",
        "  #print(path)\n",
        "  for img in os.listdir(path):\n",
        "    img_array = imread(os.path.join(path,img))\n",
        "    #print(img_array.shape)\n",
        "    #plt.imshow(img_array)\n",
        "    img_resized = resize(img_array,(150,150,3))# Normalizes the value from 0 to 1  \n",
        "    flat_data.append(img_resized.flatten())\n",
        "    images.append(img_resized)\n",
        "    target.append(class_num)\n",
        "\n",
        "flat_data = np.array(flat_data)\n",
        "target = np.array(target)\n",
        "images = np.array(images)"
      ],
      "execution_count": 13,
      "outputs": [
        {
          "output_type": "stream",
          "text": [
            "time: 45.1 s (started: 2021-03-30 18:44:29 +00:00)\n"
          ],
          "name": "stdout"
        }
      ]
    },
    {
      "cell_type": "code",
      "metadata": {
        "id": "9kXRnVMO18Ns",
        "colab": {
          "base_uri": "https://localhost:8080/"
        },
        "outputId": "5e694071-b93c-4223-c656-d53e02cbf698"
      },
      "source": [
        "len(flat_data[0])"
      ],
      "execution_count": 14,
      "outputs": [
        {
          "output_type": "execute_result",
          "data": {
            "text/plain": [
              "67500"
            ]
          },
          "metadata": {
            "tags": []
          },
          "execution_count": 14
        },
        {
          "output_type": "stream",
          "text": [
            "time: 5.9 ms (started: 2021-03-30 18:45:19 +00:00)\n"
          ],
          "name": "stdout"
        }
      ]
    },
    {
      "cell_type": "code",
      "metadata": {
        "id": "5AGVO7KL1900",
        "colab": {
          "base_uri": "https://localhost:8080/"
        },
        "outputId": "dac80ab7-a0b7-42c5-ae40-c9ac7329ac96"
      },
      "source": [
        "150*150*3"
      ],
      "execution_count": 15,
      "outputs": [
        {
          "output_type": "execute_result",
          "data": {
            "text/plain": [
              "67500"
            ]
          },
          "metadata": {
            "tags": []
          },
          "execution_count": 15
        },
        {
          "output_type": "stream",
          "text": [
            "time: 6.19 ms (started: 2021-03-30 18:45:21 +00:00)\n"
          ],
          "name": "stdout"
        }
      ]
    },
    {
      "cell_type": "code",
      "metadata": {
        "id": "mR8cKP_w2Dei",
        "colab": {
          "base_uri": "https://localhost:8080/"
        },
        "outputId": "136b4ab4-ff02-4d79-da1e-5fa9f3bffce2"
      },
      "source": [
        "target"
      ],
      "execution_count": 16,
      "outputs": [
        {
          "output_type": "execute_result",
          "data": {
            "text/plain": [
              "array([0, 0, 0, 0, 0, 0, 0, 0, 0, 0, 0, 0, 0, 0, 0, 0, 0, 0, 0, 0, 0, 0,\n",
              "       0, 0, 0, 0, 0, 0, 0, 0, 0, 0, 0, 0, 1, 1, 1, 1, 1, 1, 1, 1, 1, 1,\n",
              "       1, 1, 1, 1, 1, 1, 1, 1, 1, 1, 1, 1, 1, 1, 1, 1, 1, 1, 1, 1, 2, 2,\n",
              "       2, 2, 2, 2, 2, 2, 2, 2, 2, 2, 2, 2, 2, 2, 2, 2, 2, 2, 2, 2, 2, 2,\n",
              "       2, 2, 2, 2, 2, 2])"
            ]
          },
          "metadata": {
            "tags": []
          },
          "execution_count": 16
        },
        {
          "output_type": "stream",
          "text": [
            "time: 4.58 ms (started: 2021-03-30 18:45:25 +00:00)\n"
          ],
          "name": "stdout"
        }
      ]
    },
    {
      "cell_type": "code",
      "metadata": {
        "id": "f7nnqR412NJe",
        "colab": {
          "base_uri": "https://localhost:8080/",
          "height": 298
        },
        "outputId": "508813aa-4ebf-4c51-ea62-3802b52fd68a"
      },
      "source": [
        "unique,count = np.unique(target,return_counts=True)\n",
        "plt.bar(CATEGORIES,count)"
      ],
      "execution_count": 17,
      "outputs": [
        {
          "output_type": "execute_result",
          "data": {
            "text/plain": [
              "<BarContainer object of 3 artists>"
            ]
          },
          "metadata": {
            "tags": []
          },
          "execution_count": 17
        },
        {
          "output_type": "display_data",
          "data": {
            "image/png": "[encoded data removed]",
            "text/plain": [
              "<Figure size 432x288 with 1 Axes>"
            ]
          },
          "metadata": {
            "tags": [],
            "needs_background": "light"
          }
        },
        {
          "output_type": "stream",
          "text": [
            "time: 193 ms (started: 2021-03-30 18:45:28 +00:00)\n"
          ],
          "name": "stdout"
        }
      ]
    },
    {
      "cell_type": "code",
      "metadata": {
        "id": "9wy3_xVt2YKf",
        "colab": {
          "base_uri": "https://localhost:8080/"
        },
        "outputId": "30286dfb-ada1-4ead-813e-4f856b58f1e0"
      },
      "source": [
        "#split data into Training and testing\n",
        "from sklearn.model_selection import train_test_split\n",
        "x_train,x_test,y_train,y_test = train_test_split(flat_data,target,test_size=0.3,random_state=109)"
      ],
      "execution_count": 18,
      "outputs": [
        {
          "output_type": "stream",
          "text": [
            "time: 257 ms (started: 2021-03-30 18:45:32 +00:00)\n"
          ],
          "name": "stdout"
        }
      ]
    },
    {
      "cell_type": "code",
      "metadata": {
        "id": "-GztfkB63BJj",
        "colab": {
          "base_uri": "https://localhost:8080/"
        },
        "outputId": "29f5bc8d-95b0-40c2-a934-349ad0cf1de3"
      },
      "source": [
        "from sklearn.model_selection import GridSearchCV\n",
        "from sklearn import svm\n",
        "param_grid = [\n",
        "              {'C':[1,10,100,1000],'kernel':['linear']},\n",
        "              {'C':[1,10,100,1000],'gamma':[0.001,0.0001],'kernel':['rbf']},\n",
        "]\n",
        "\n",
        "svc = svm.SVC(probability=True)\n",
        "clf = GridSearchCV(svc,param_grid)\n",
        "clf.fit(x_train,y_train)"
      ],
      "execution_count": 19,
      "outputs": [
        {
          "output_type": "execute_result",
          "data": {
            "text/plain": [
              "GridSearchCV(cv=None, error_score=nan,\n",
              "             estimator=SVC(C=1.0, break_ties=False, cache_size=200,\n",
              "                           class_weight=None, coef0=0.0,\n",
              "                           decision_function_shape='ovr', degree=3,\n",
              "                           gamma='scale', kernel='rbf', max_iter=-1,\n",
              "                           probability=True, random_state=None, shrinking=True,\n",
              "                           tol=0.001, verbose=False),\n",
              "             iid='deprecated', n_jobs=None,\n",
              "             param_grid=[{'C': [1, 10, 100, 1000], 'kernel': ['linear']},\n",
              "                         {'C': [1, 10, 100, 1000], 'gamma': [0.001, 0.0001],\n",
              "                          'kernel': ['rbf']}],\n",
              "             pre_dispatch='2*n_jobs', refit=True, return_train_score=False,\n",
              "             scoring=None, verbose=0)"
            ]
          },
          "metadata": {
            "tags": []
          },
          "execution_count": 19
        },
        {
          "output_type": "stream",
          "text": [
            "time: 1min 53s (started: 2021-03-30 18:45:35 +00:00)\n"
          ],
          "name": "stdout"
        }
      ]
    },
    {
      "cell_type": "code",
      "metadata": {
        "id": "7rgzcBLK3ZF_",
        "colab": {
          "base_uri": "https://localhost:8080/"
        },
        "outputId": "11cca1b1-e5e5-4e4c-cf4e-4bda4c126003"
      },
      "source": [
        "y_pred=clf.predict(x_test)\n",
        "y_pred"
      ],
      "execution_count": 20,
      "outputs": [
        {
          "output_type": "execute_result",
          "data": {
            "text/plain": [
              "array([1, 0, 1, 2, 1, 1, 0, 0, 0, 0, 0, 0, 1, 1, 2, 0, 0, 2, 0, 0, 0, 1,\n",
              "       2, 1, 1, 0, 0, 0, 0])"
            ]
          },
          "metadata": {
            "tags": []
          },
          "execution_count": 20
        },
        {
          "output_type": "stream",
          "text": [
            "time: 186 ms (started: 2021-03-30 18:47:34 +00:00)\n"
          ],
          "name": "stdout"
        }
      ]
    },
    {
      "cell_type": "code",
      "metadata": {
        "id": "3IvW43Wk3yct",
        "colab": {
          "base_uri": "https://localhost:8080/"
        },
        "outputId": "47a5ff98-3e8d-4ebf-adc0-cfb07d0e18d5"
      },
      "source": [
        "y_test"
      ],
      "execution_count": 21,
      "outputs": [
        {
          "output_type": "execute_result",
          "data": {
            "text/plain": [
              "array([1, 0, 1, 2, 1, 1, 0, 0, 0, 2, 2, 0, 1, 1, 2, 2, 2, 2, 2, 0, 0, 1,\n",
              "       2, 1, 1, 2, 0, 2, 0])"
            ]
          },
          "metadata": {
            "tags": []
          },
          "execution_count": 21
        },
        {
          "output_type": "stream",
          "text": [
            "time: 5.05 ms (started: 2021-03-30 18:47:36 +00:00)\n"
          ],
          "name": "stdout"
        }
      ]
    },
    {
      "cell_type": "code",
      "metadata": {
        "id": "Et-Cyp4d3zYL",
        "colab": {
          "base_uri": "https://localhost:8080/"
        },
        "outputId": "ba13ae11-bc14-48b9-985e-b3becee0db12"
      },
      "source": [
        "from sklearn.metrics import accuracy_score,confusion_matrix"
      ],
      "execution_count": 22,
      "outputs": [
        {
          "output_type": "stream",
          "text": [
            "time: 1.02 ms (started: 2021-03-30 18:47:39 +00:00)\n"
          ],
          "name": "stdout"
        }
      ]
    },
    {
      "cell_type": "code",
      "metadata": {
        "id": "AK9z-eh14ECz",
        "colab": {
          "base_uri": "https://localhost:8080/"
        },
        "outputId": "f0c3afc2-4d00-43b2-9358-f77d9db3abe0"
      },
      "source": [
        "accuracy_score(y_pred,y_test)"
      ],
      "execution_count": 23,
      "outputs": [
        {
          "output_type": "execute_result",
          "data": {
            "text/plain": [
              "0.7586206896551724"
            ]
          },
          "metadata": {
            "tags": []
          },
          "execution_count": 23
        },
        {
          "output_type": "stream",
          "text": [
            "time: 5.74 ms (started: 2021-03-30 18:47:42 +00:00)\n"
          ],
          "name": "stdout"
        }
      ]
    },
    {
      "cell_type": "code",
      "metadata": {
        "id": "EvpuNMBb4MUC",
        "colab": {
          "base_uri": "https://localhost:8080/"
        },
        "outputId": "30a9a974-4774-4ec5-e37b-d6771a33af90"
      },
      "source": [
        "confusion_matrix(y_pred,y_test)"
      ],
      "execution_count": 24,
      "outputs": [
        {
          "output_type": "execute_result",
          "data": {
            "text/plain": [
              "array([[9, 0, 7],\n",
              "       [0, 9, 0],\n",
              "       [0, 0, 4]])"
            ]
          },
          "metadata": {
            "tags": []
          },
          "execution_count": 24
        },
        {
          "output_type": "stream",
          "text": [
            "time: 6.93 ms (started: 2021-03-30 18:47:45 +00:00)\n"
          ],
          "name": "stdout"
        }
      ]
    },
    {
      "cell_type": "code",
      "metadata": {
        "id": "6-G9QQY34YJb",
        "colab": {
          "base_uri": "https://localhost:8080/"
        },
        "outputId": "838f9085-c8fa-4588-8fae-1f947cc40521"
      },
      "source": [
        "import pickle\n",
        "pickle.dump(clf,open('img_model.p','wb'))"
      ],
      "execution_count": 25,
      "outputs": [
        {
          "output_type": "stream",
          "text": [
            "time: 42.9 ms (started: 2021-03-30 18:47:47 +00:00)\n"
          ],
          "name": "stdout"
        }
      ]
    },
    {
      "cell_type": "code",
      "metadata": {
        "id": "tRFQRf4X497l",
        "colab": {
          "base_uri": "https://localhost:8080/"
        },
        "outputId": "4341ce09-853e-4fe5-9c18-c8cae81a4110"
      },
      "source": [
        "model = pickle.load(open('img_model.p','rb'))"
      ],
      "execution_count": 26,
      "outputs": [
        {
          "output_type": "stream",
          "text": [
            "time: 31.4 ms (started: 2021-03-30 18:47:50 +00:00)\n"
          ],
          "name": "stdout"
        }
      ]
    },
    {
      "cell_type": "code",
      "metadata": {
        "id": "NISzRUIs5daj",
        "colab": {
          "base_uri": "https://localhost:8080/",
          "height": 356
        },
        "outputId": "2a443e7b-2698-479a-8f50-9300e526c358"
      },
      "source": [
        "flat_data=[]\n",
        "url=input('Enter your URL')\n",
        "img=imread(url)\n",
        "img_resized=resize(img,(150,150,3))\n",
        "flat_data.append(img_resized.flatten())\n",
        "flat_data=np.array(flat_data)\n",
        "print(img.shape)\n",
        "plt.imshow(img_resized)\n",
        "y_out=model.predict(flat_data)\n",
        "y_out=CATEGORIES[y_out[0]]\n",
        "print(f' PREDICTED OUTPUT:{y_out}')"
      ],
      "execution_count": 28,
      "outputs": [
        {
          "output_type": "stream",
          "text": [
            "Enter your URLhttps://static.wixstatic.com/media/e6591e_3a5449fe774a4993a1166b1d33e233f7~mv2_d_1880_1253_s_2.jpg/v1/fill/w_1000,h_666,al_c,q_90,usm_0.66_1.00_0.01/e6591e_3a5449fe774a4993a1166b1d33e233f7~mv2_d_1880_1253_s_2.jpg\n",
            "(666, 1000, 3)\n",
            " PREDICTED OUTPUT:pretty sunflower\n"
          ],
          "name": "stdout"
        },
        {
          "output_type": "display_data",
          "data": {
            "image/png": "[encoded data removed]",
            "text/plain": [
              "<Figure size 432x288 with 1 Axes>"
            ]
          },
          "metadata": {
            "tags": [],
            "needs_background": "light"
          }
        },
        {
          "output_type": "stream",
          "text": [
            "time: 3.99 s (started: 2021-03-30 18:49:13 +00:00)\n"
          ],
          "name": "stdout"
        }
      ]
    },
    {
      "cell_type": "code",
      "metadata": {
        "id": "FZwqXk2RK7qu",
        "colab": {
          "base_uri": "https://localhost:8080/",
          "height": 1000
        },
        "outputId": "2310d5f8-2d3e-4f87-84c6-b6b560569493"
      },
      "source": [
        "!pip install streamlit \n",
        "\n",
        "!pip install pyngrok\n",
        "from pyngrok import ngrok"
      ],
      "execution_count": 30,
      "outputs": [
        {
          "output_type": "stream",
          "text": [
            "Collecting streamlit\n",
            "\u001b[?25l  Downloading https://files.pythonhosted.org/packages/76/a6/2507aedaa1c80d39eccd601129d273f4091720f4b1031997bb52630ba504/streamlit-0.79.0-py2.py3-none-any.whl (7.0MB)\n",
            "\u001b[K     |████████████████████████████████| 7.0MB 5.3MB/s \n",
            "\u001b[?25hRequirement already satisfied: toml in /usr/local/lib/python3.7/dist-packages (from streamlit) (0.10.2)\n",
            "Requirement already satisfied: packaging in /usr/local/lib/python3.7/dist-packages (from streamlit) (20.9)\n",
            "Requirement already satisfied: pillow>=6.2.0 in /usr/local/lib/python3.7/dist-packages (from streamlit) (7.1.2)\n",
            "Requirement already satisfied: astor in /usr/local/lib/python3.7/dist-packages (from streamlit) (0.8.1)\n",
            "Requirement already satisfied: altair>=3.2.0 in /usr/local/lib/python3.7/dist-packages (from streamlit) (4.1.0)\n",
            "Requirement already satisfied: python-dateutil in /usr/local/lib/python3.7/dist-packages (from streamlit) (2.8.1)\n",
            "Requirement already satisfied: tzlocal in /usr/local/lib/python3.7/dist-packages (from streamlit) (1.5.1)\n",
            "Requirement already satisfied: requests in /usr/local/lib/python3.7/dist-packages (from streamlit) (2.23.0)\n",
            "Requirement already satisfied: numpy in /usr/local/lib/python3.7/dist-packages (from streamlit) (1.19.5)\n",
            "Collecting gitpython\n",
            "\u001b[?25l  Downloading https://files.pythonhosted.org/packages/a6/99/98019716955ba243657daedd1de8f3a88ca1f5b75057c38e959db22fb87b/GitPython-3.1.14-py3-none-any.whl (159kB)\n",
            "\u001b[K     |████████████████████████████████| 163kB 35.9MB/s \n",
            "\u001b[?25hRequirement already satisfied: pyarrow; python_version < \"3.9\" in /usr/local/lib/python3.7/dist-packages (from streamlit) (3.0.0)\n",
            "Requirement already satisfied: pandas>=0.21.0 in /usr/local/lib/python3.7/dist-packages (from streamlit) (1.1.5)\n",
            "Requirement already satisfied: click>=7.0 in /usr/local/lib/python3.7/dist-packages (from streamlit) (7.1.2)\n",
            "Collecting blinker\n",
            "\u001b[?25l  Downloading https://files.pythonhosted.org/packages/1b/51/e2a9f3b757eb802f61dc1f2b09c8c99f6eb01cf06416c0671253536517b6/blinker-1.4.tar.gz (111kB)\n",
            "\u001b[K     |████████████████████████████████| 112kB 29.5MB/s \n",
            "\u001b[?25hRequirement already satisfied: cachetools>=4.0 in /usr/local/lib/python3.7/dist-packages (from streamlit) (4.2.1)\n",
            "Collecting watchdog; platform_system != \"Darwin\"\n",
            "\u001b[?25l  Downloading https://files.pythonhosted.org/packages/c6/ba/a36ca5b4e75649a002f06531862467b3eb5c768caa23d6d88b921fe238d8/watchdog-2.0.2-py3-none-manylinux2014_x86_64.whl (74kB)\n",
            "\u001b[K     |████████████████████████████████| 81kB 6.3MB/s \n",
            "\u001b[?25hCollecting base58\n",
            "  Downloading https://files.pythonhosted.org/packages/b8/a1/d9f565e9910c09fd325dc638765e8843a19fa696275c16cc08cf3b0a3c25/base58-2.1.0-py3-none-any.whl\n",
            "Collecting validators\n",
            "  Downloading https://files.pythonhosted.org/packages/db/2f/7fed3ee94ad665ad2c1de87f858f10a7785251ff75b4fd47987888d07ef1/validators-0.18.2-py3-none-any.whl\n",
            "Collecting pydeck>=0.1.dev5\n",
            "\u001b[?25l  Downloading https://files.pythonhosted.org/packages/1c/3f/8f04ae0c22d82ec7bec7fcc03270a142f637e362bbd285f7daeeda24fbef/pydeck-0.6.1-py2.py3-none-any.whl (4.6MB)\n",
            "\u001b[K     |████████████████████████████████| 4.6MB 47.3MB/s \n",
            "\u001b[?25hRequirement already satisfied: tornado>=5.0 in /usr/local/lib/python3.7/dist-packages (from streamlit) (5.1.1)\n",
            "Requirement already satisfied: protobuf!=3.11,>=3.6.0 in /usr/local/lib/python3.7/dist-packages (from streamlit) (3.12.4)\n",
            "Requirement already satisfied: pyparsing>=2.0.2 in /usr/local/lib/python3.7/dist-packages (from packaging->streamlit) (2.4.7)\n",
            "Requirement already satisfied: entrypoints in /usr/local/lib/python3.7/dist-packages (from altair>=3.2.0->streamlit) (0.3)\n",
            "Requirement already satisfied: jinja2 in /usr/local/lib/python3.7/dist-packages (from altair>=3.2.0->streamlit) (2.11.3)\n",
            "Requirement already satisfied: jsonschema in /usr/local/lib/python3.7/dist-packages (from altair>=3.2.0->streamlit) (2.6.0)\n",
            "Requirement already satisfied: toolz in /usr/local/lib/python3.7/dist-packages (from altair>=3.2.0->streamlit) (0.11.1)\n",
            "Requirement already satisfied: six>=1.5 in /usr/local/lib/python3.7/dist-packages (from python-dateutil->streamlit) (1.15.0)\n",
            "Requirement already satisfied: pytz in /usr/local/lib/python3.7/dist-packages (from tzlocal->streamlit) (2018.9)\n",
            "Requirement already satisfied: certifi>=2017.4.17 in /usr/local/lib/python3.7/dist-packages (from requests->streamlit) (2020.12.5)\n",
            "Requirement already satisfied: urllib3!=1.25.0,!=1.25.1,<1.26,>=1.21.1 in /usr/local/lib/python3.7/dist-packages (from requests->streamlit) (1.24.3)\n",
            "Requirement already satisfied: idna<3,>=2.5 in /usr/local/lib/python3.7/dist-packages (from requests->streamlit) (2.10)\n",
            "Requirement already satisfied: chardet<4,>=3.0.2 in /usr/local/lib/python3.7/dist-packages (from requests->streamlit) (3.0.4)\n",
            "Collecting gitdb<5,>=4.0.1\n",
            "\u001b[?25l  Downloading https://files.pythonhosted.org/packages/ea/e8/f414d1a4f0bbc668ed441f74f44c116d9816833a48bf81d22b697090dba8/gitdb-4.0.7-py3-none-any.whl (63kB)\n",
            "\u001b[K     |████████████████████████████████| 71kB 5.7MB/s \n",
            "\u001b[?25hRequirement already satisfied: decorator>=3.4.0 in /usr/local/lib/python3.7/dist-packages (from validators->streamlit) (4.4.2)\n",
            "Collecting ipykernel>=5.1.2; python_version >= \"3.4\"\n",
            "\u001b[?25l  Downloading https://files.pythonhosted.org/packages/3a/7d/9f8ac1b1b76f2f1538b5650f0b5636bae082724b1e06939a3a9d38e1380e/ipykernel-5.5.3-py3-none-any.whl (120kB)\n",
            "\u001b[K     |████████████████████████████████| 122kB 50.3MB/s \n",
            "\u001b[?25hRequirement already satisfied: traitlets>=4.3.2 in /usr/local/lib/python3.7/dist-packages (from pydeck>=0.1.dev5->streamlit) (5.0.5)\n",
            "Requirement already satisfied: ipywidgets>=7.0.0 in /usr/local/lib/python3.7/dist-packages (from pydeck>=0.1.dev5->streamlit) (7.6.3)\n",
            "Requirement already satisfied: setuptools in /usr/local/lib/python3.7/dist-packages (from protobuf!=3.11,>=3.6.0->streamlit) (54.2.0)\n",
            "Requirement already satisfied: MarkupSafe>=0.23 in /usr/local/lib/python3.7/dist-packages (from jinja2->altair>=3.2.0->streamlit) (1.1.1)\n",
            "Collecting smmap<5,>=3.0.1\n",
            "  Downloading https://files.pythonhosted.org/packages/68/ee/d540eb5e5996eb81c26ceffac6ee49041d473bc5125f2aa995cf51ec1cf1/smmap-4.0.0-py2.py3-none-any.whl\n",
            "Requirement already satisfied: ipython>=5.0.0 in /usr/local/lib/python3.7/dist-packages (from ipykernel>=5.1.2; python_version >= \"3.4\"->pydeck>=0.1.dev5->streamlit) (5.5.0)\n",
            "Requirement already satisfied: jupyter-client in /usr/local/lib/python3.7/dist-packages (from ipykernel>=5.1.2; python_version >= \"3.4\"->pydeck>=0.1.dev5->streamlit) (5.3.5)\n",
            "Requirement already satisfied: ipython-genutils in /usr/local/lib/python3.7/dist-packages (from traitlets>=4.3.2->pydeck>=0.1.dev5->streamlit) (0.2.0)\n",
            "Requirement already satisfied: jupyterlab-widgets>=1.0.0; python_version >= \"3.6\" in /usr/local/lib/python3.7/dist-packages (from ipywidgets>=7.0.0->pydeck>=0.1.dev5->streamlit) (1.0.0)\n",
            "Requirement already satisfied: nbformat>=4.2.0 in /usr/local/lib/python3.7/dist-packages (from ipywidgets>=7.0.0->pydeck>=0.1.dev5->streamlit) (5.1.2)\n",
            "Requirement already satisfied: widgetsnbextension~=3.5.0 in /usr/local/lib/python3.7/dist-packages (from ipywidgets>=7.0.0->pydeck>=0.1.dev5->streamlit) (3.5.1)\n",
            "Requirement already satisfied: prompt-toolkit<2.0.0,>=1.0.4 in /usr/local/lib/python3.7/dist-packages (from ipython>=5.0.0->ipykernel>=5.1.2; python_version >= \"3.4\"->pydeck>=0.1.dev5->streamlit) (1.0.18)\n",
            "Requirement already satisfied: pexpect; sys_platform != \"win32\" in /usr/local/lib/python3.7/dist-packages (from ipython>=5.0.0->ipykernel>=5.1.2; python_version >= \"3.4\"->pydeck>=0.1.dev5->streamlit) (4.8.0)\n",
            "Requirement already satisfied: pygments in /usr/local/lib/python3.7/dist-packages (from ipython>=5.0.0->ipykernel>=5.1.2; python_version >= \"3.4\"->pydeck>=0.1.dev5->streamlit) (2.6.1)\n",
            "Requirement already satisfied: simplegeneric>0.8 in /usr/local/lib/python3.7/dist-packages (from ipython>=5.0.0->ipykernel>=5.1.2; python_version >= \"3.4\"->pydeck>=0.1.dev5->streamlit) (0.8.1)\n",
            "Requirement already satisfied: pickleshare in /usr/local/lib/python3.7/dist-packages (from ipython>=5.0.0->ipykernel>=5.1.2; python_version >= \"3.4\"->pydeck>=0.1.dev5->streamlit) (0.7.5)\n",
            "Requirement already satisfied: pyzmq>=13 in /usr/local/lib/python3.7/dist-packages (from jupyter-client->ipykernel>=5.1.2; python_version >= \"3.4\"->pydeck>=0.1.dev5->streamlit) (22.0.3)\n",
            "Requirement already satisfied: jupyter-core>=4.6.0 in /usr/local/lib/python3.7/dist-packages (from jupyter-client->ipykernel>=5.1.2; python_version >= \"3.4\"->pydeck>=0.1.dev5->streamlit) (4.7.1)\n",
            "Requirement already satisfied: notebook>=4.4.1 in /usr/local/lib/python3.7/dist-packages (from widgetsnbextension~=3.5.0->ipywidgets>=7.0.0->pydeck>=0.1.dev5->streamlit) (5.3.1)\n",
            "Requirement already satisfied: wcwidth in /usr/local/lib/python3.7/dist-packages (from prompt-toolkit<2.0.0,>=1.0.4->ipython>=5.0.0->ipykernel>=5.1.2; python_version >= \"3.4\"->pydeck>=0.1.dev5->streamlit) (0.2.5)\n",
            "Requirement already satisfied: ptyprocess>=0.5 in /usr/local/lib/python3.7/dist-packages (from pexpect; sys_platform != \"win32\"->ipython>=5.0.0->ipykernel>=5.1.2; python_version >= \"3.4\"->pydeck>=0.1.dev5->streamlit) (0.7.0)\n",
            "Requirement already satisfied: terminado>=0.8.1 in /usr/local/lib/python3.7/dist-packages (from notebook>=4.4.1->widgetsnbextension~=3.5.0->ipywidgets>=7.0.0->pydeck>=0.1.dev5->streamlit) (0.9.3)\n",
            "Requirement already satisfied: Send2Trash in /usr/local/lib/python3.7/dist-packages (from notebook>=4.4.1->widgetsnbextension~=3.5.0->ipywidgets>=7.0.0->pydeck>=0.1.dev5->streamlit) (1.5.0)\n",
            "Requirement already satisfied: nbconvert in /usr/local/lib/python3.7/dist-packages (from notebook>=4.4.1->widgetsnbextension~=3.5.0->ipywidgets>=7.0.0->pydeck>=0.1.dev5->streamlit) (5.6.1)\n",
            "Requirement already satisfied: pandocfilters>=1.4.1 in /usr/local/lib/python3.7/dist-packages (from nbconvert->notebook>=4.4.1->widgetsnbextension~=3.5.0->ipywidgets>=7.0.0->pydeck>=0.1.dev5->streamlit) (1.4.3)\n",
            "Requirement already satisfied: mistune<2,>=0.8.1 in /usr/local/lib/python3.7/dist-packages (from nbconvert->notebook>=4.4.1->widgetsnbextension~=3.5.0->ipywidgets>=7.0.0->pydeck>=0.1.dev5->streamlit) (0.8.4)\n",
            "Requirement already satisfied: bleach in /usr/local/lib/python3.7/dist-packages (from nbconvert->notebook>=4.4.1->widgetsnbextension~=3.5.0->ipywidgets>=7.0.0->pydeck>=0.1.dev5->streamlit) (3.3.0)\n",
            "Requirement already satisfied: defusedxml in /usr/local/lib/python3.7/dist-packages (from nbconvert->notebook>=4.4.1->widgetsnbextension~=3.5.0->ipywidgets>=7.0.0->pydeck>=0.1.dev5->streamlit) (0.7.1)\n",
            "Requirement already satisfied: testpath in /usr/local/lib/python3.7/dist-packages (from nbconvert->notebook>=4.4.1->widgetsnbextension~=3.5.0->ipywidgets>=7.0.0->pydeck>=0.1.dev5->streamlit) (0.4.4)\n",
            "Requirement already satisfied: webencodings in /usr/local/lib/python3.7/dist-packages (from bleach->nbconvert->notebook>=4.4.1->widgetsnbextension~=3.5.0->ipywidgets>=7.0.0->pydeck>=0.1.dev5->streamlit) (0.5.1)\n",
            "Building wheels for collected packages: blinker\n",
            "  Building wheel for blinker (setup.py) ... \u001b[?25l\u001b[?25hdone\n",
            "  Created wheel for blinker: filename=blinker-1.4-cp37-none-any.whl size=13448 sha256=75fed477dbf4eeb5d4da3d6fd16fc0df531c86fea31b67df13a6ca87d08590b2\n",
            "  Stored in directory: /root/.cache/pip/wheels/92/a0/00/8690a57883956a301d91cf4ec999cc0b258b01e3f548f86e89\n",
            "Successfully built blinker\n",
            "\u001b[31mERROR: google-colab 1.0.0 has requirement ipykernel~=4.10, but you'll have ipykernel 5.5.3 which is incompatible.\u001b[0m\n",
            "Installing collected packages: smmap, gitdb, gitpython, blinker, watchdog, base58, validators, ipykernel, pydeck, streamlit\n",
            "  Found existing installation: ipykernel 4.10.1\n",
            "    Uninstalling ipykernel-4.10.1:\n",
            "      Successfully uninstalled ipykernel-4.10.1\n",
            "Successfully installed base58-2.1.0 blinker-1.4 gitdb-4.0.7 gitpython-3.1.14 ipykernel-5.5.3 pydeck-0.6.1 smmap-4.0.0 streamlit-0.79.0 validators-0.18.2 watchdog-2.0.2\n"
          ],
          "name": "stdout"
        },
        {
          "output_type": "display_data",
          "data": {
            "application/vnd.colab-display-data+json": {
              "pip_warning": {
                "packages": [
                  "ipykernel"
                ]
              }
            }
          },
          "metadata": {
            "tags": []
          }
        },
        {
          "output_type": "stream",
          "text": [
            "Collecting pyngrok\n",
            "\u001b[?25l  Downloading https://files.pythonhosted.org/packages/6b/4e/a2fe095bbe17cf26424c4abcd22a0490e22d01cc628f25af5e220ddbf6f0/pyngrok-5.0.5.tar.gz (745kB)\n",
            "\u001b[K     |████████████████████████████████| 747kB 5.5MB/s \n",
            "\u001b[?25hRequirement already satisfied: PyYAML in /usr/local/lib/python3.7/dist-packages (from pyngrok) (3.13)\n",
            "Building wheels for collected packages: pyngrok\n",
            "  Building wheel for pyngrok (setup.py) ... \u001b[?25l\u001b[?25hdone\n",
            "  Created wheel for pyngrok: filename=pyngrok-5.0.5-cp37-none-any.whl size=19246 sha256=8b0f9588d82e569934b1bd9adce2b3bf45882291a3c4256fda4c30c3a0178f18\n",
            "  Stored in directory: /root/.cache/pip/wheels/0c/13/64/5ebbcc22eaf53fdf5766b397c1fb17c83f5775fdccf0ea1b88\n",
            "Successfully built pyngrok\n",
            "Installing collected packages: pyngrok\n",
            "Successfully installed pyngrok-5.0.5\n",
            "time: 20.3 s (started: 2021-03-30 18:50:28 +00:00)\n"
          ],
          "name": "stdout"
        }
      ]
    },
    {
      "cell_type": "code",
      "metadata": {
        "id": "LBafiOXkLbqv",
        "colab": {
          "base_uri": "https://localhost:8080/"
        },
        "outputId": "062c9c2e-7988-41fb-da93-79d5567487bb"
      },
      "source": [
        "%%writefile app.py\n",
        "import streamlit as st\n",
        "import numpy as np\n",
        "from skimage.io import imread\n",
        "from skimage.transform import resize\n",
        "import pickle\n",
        "from PIL import Image\n",
        "st.set_option('deprecation.showfileUploaderEncoding',False)\n",
        "st.title('Image Classifier using Machine Learning')\n",
        "st.text('Upload the Image')\n",
        "\n",
        "model=pickle.load(open('img_model.p','rb'))\n",
        "uploaded_file=st.file_uploader(\"Choose an image...\",type=\"jpg\")\n",
        "if uploaded_file is not None:\n",
        "  img=Image.open(uploaded_file)\n",
        "  st.image(img,caption='Uploaded Image')\n",
        "\n",
        "  if st.button('PREDICT'):\n",
        "    CATEGORIES = ['pretty sunflower','rugby ball leather','ice cream cone']\n",
        "    st.write('Result...')\n",
        "    flat_data=[]\n",
        "    img=np.array(img)\n",
        "    img_resized=resize(img,(150,150,3))\n",
        "    flat_data.append(img_resized.flatten())\n",
        "    flat_data=np.array(flat_data)\n",
        "    y_out=model.predict(flat_data)\n",
        "    y_out=CATEGORIES[y_out[0]]\n",
        "    st.title(f' PREDICTED OUTPUT:{y_out}')  "
      ],
      "execution_count": 31,
      "outputs": [
        {
          "output_type": "stream",
          "text": [
            "Writing app.py\n",
            "time: 6.43 ms (started: 2021-03-30 18:50:58 +00:00)\n"
          ],
          "name": "stdout"
        }
      ]
    },
    {
      "cell_type": "code",
      "metadata": {
        "id": "9Jr_J4WZMhvW",
        "colab": {
          "base_uri": "https://localhost:8080/"
        },
        "outputId": "a1f11c55-950b-43ed-bcef-b47e6692849c"
      },
      "source": [
        "!nohup streamlit run app.py &\n",
        "\n",
        "url=ngrok.connect(port='8501')\n",
        "url"
      ],
      "execution_count": 32,
      "outputs": [
        {
          "output_type": "stream",
          "text": [
            "nohup: appending output to 'nohup.out'\n"
          ],
          "name": "stdout"
        },
        {
          "output_type": "execute_result",
          "data": {
            "text/plain": [
              "<NgrokTunnel: \"http://228f37b299e7.ngrok.io\" -> \"http://localhost:80\">"
            ]
          },
          "metadata": {
            "tags": []
          },
          "execution_count": 32
        },
        {
          "output_type": "stream",
          "text": [
            "time: 1.51 s (started: 2021-03-30 18:51:02 +00:00)\n"
          ],
          "name": "stdout"
        }
      ]
    }
  ]
}